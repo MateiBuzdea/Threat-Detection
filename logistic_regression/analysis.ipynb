{
 "cells": [
  {
   "cell_type": "markdown",
   "metadata": {},
   "source": [
    "# Malicious traffic classifier using Multi-Class Logistic Regression\n",
    "\n",
    "The script classifies packets into three classes: benign, cryptominer and bruteforce, as well as a custom implementation of a Logistic Regression Classifier.\n",
    "\n",
    "A very good resource for understanding all the math behind the code: https://eli.thegreenplace.net/2016/the-softmax-function-and-its-derivative/"
   ]
  },
  {
   "cell_type": "code",
   "execution_count": 1,
   "metadata": {},
   "outputs": [],
   "source": [
    "%load_ext autoreload\n",
    "%autoreload 2"
   ]
  },
  {
   "cell_type": "markdown",
   "metadata": {},
   "source": [
    "We already visualised and processed the data in `decision_tree/analysis.ipynb`. We'll get directly into the regression classifier."
   ]
  },
  {
   "cell_type": "code",
   "execution_count": 2,
   "metadata": {},
   "outputs": [],
   "source": [
    "from sklearn.compose import ColumnTransformer\n",
    "from sklearn.model_selection import train_test_split\n",
    "from sklearn.metrics import confusion_matrix, classification_report\n",
    "from sklearn.linear_model import LogisticRegression\n",
    "\n",
    "# Hotfix to allow script to be run from anywhere\n",
    "__import__('sys').path.append('..')\n",
    "\n",
    "from preprocessing.utils import *\n",
    "from preprocessing.visual_utils import *\n",
    "\n",
    "\n",
    "traffic_data, labels = load_network_dataset()\n",
    "\n",
    "DF_FIELDS = traffic_data.columns\n",
    "IP_FIELDS = ['origin_ip', 'response_ip']\n",
    "\n",
    "# split the ip fields into 4 columns\n",
    "ip_transformer = ColumnTransformer(\n",
    "    transformers=[\n",
    "        ('ip_splitter', IPTransformer(IP_FIELDS), IP_FIELDS),\n",
    "    ],\n",
    "    remainder='passthrough'\n",
    ")\n",
    "\n",
    "updated_traffic_data = ip_transformer.fit_transform(traffic_data)\n",
    "updated_traffic_data = pd.DataFrame(updated_traffic_data)"
   ]
  },
  {
   "cell_type": "markdown",
   "metadata": {},
   "source": [
    "We can try to classify the data using the sci-kit learn library, but we'll implement the classifier from scratch to understand the math behind it."
   ]
  },
  {
   "cell_type": "code",
   "execution_count": 3,
   "metadata": {},
   "outputs": [
    {
     "name": "stdout",
     "output_type": "stream",
     "text": [
      "              precision    recall  f1-score   support\n",
      "\n",
      "      benign       1.00      1.00      1.00       150\n",
      "  bruteforce       1.00      1.00      1.00        30\n",
      " cryptominer       1.00      1.00      1.00        20\n",
      "\n",
      "    accuracy                           1.00       200\n",
      "   macro avg       1.00      1.00      1.00       200\n",
      "weighted avg       1.00      1.00      1.00       200\n",
      "\n"
     ]
    }
   ],
   "source": [
    "X_train, X_test, y_train, y_test = train_test_split(updated_traffic_data, labels, test_size=0.2, stratify=labels)\n",
    "\n",
    "# Classify using Logistic Regression\n",
    "lr = LogisticRegression(solver='lbfgs', max_iter=5000)\n",
    "lr.fit(X_train, y_train)\n",
    "lr_predict = lr.predict(X_test)\n",
    "\n",
    "# Evaluate the model\n",
    "lr_cmat = confusion_matrix(y_test, lr_predict)\n",
    "report = classification_report(y_test, lr_predict)\n",
    "\n",
    "print(report)"
   ]
  },
  {
   "cell_type": "markdown",
   "metadata": {},
   "source": [
    "It converges after about 1000 iterations, however lgbfs throws warnings about the convergence. We can try to increase the number of iterations, but it's not necessary for this dataset. We see that the accuracy is 0.99, which is very good."
   ]
  },
  {
   "cell_type": "markdown",
   "metadata": {},
   "source": [
    "# Custom Variant\n",
    "\n",
    "Now we'll use the custom implementation of the classifier. We'll use the same dataset as before. It uses softmax regression to classify the data.\n",
    "But now we need to take into consideration multiple things. First of all, we must normalize the data to make it easier for the classifier to converge. We'll use the StandardScaler from the sci-kit learn library to do this.\n",
    "\n",
    "If we skip this step, the initial errors will be very high (because some fields values are way bigger than the others) and the classifier will not converge."
   ]
  },
  {
   "cell_type": "code",
   "execution_count": 4,
   "metadata": {},
   "outputs": [],
   "source": [
    "from sklearn.preprocessing import OneHotEncoder\n",
    "from sklearn.preprocessing import StandardScaler\n",
    "\n",
    "import numpy as np\n",
    "\n",
    "from logistic_regression import LogisticRegression\n",
    "\n",
    "\n",
    "# Scale the data to avoid huge initial errors\n",
    "scaler = StandardScaler()\n",
    "X_train = scaler.fit_transform(X_train)\n",
    "X_test = scaler.transform(X_test)"
   ]
  },
  {
   "cell_type": "markdown",
   "metadata": {},
   "source": [
    "Now, we must one-hot encode the labels. We'll use the LabelBinarizer from the sci-kit learn library to do this."
   ]
  },
  {
   "cell_type": "code",
   "execution_count": 5,
   "metadata": {},
   "outputs": [],
   "source": [
    "# One-hot encode the labels\n",
    "\n",
    "y_train = np.array(y_train)\n",
    "y_test = np.array(y_test)\n",
    "\n",
    "encoder = OneHotEncoder()\n",
    "y_train = encoder.fit_transform(y_train.reshape(-1, 1)).toarray()"
   ]
  },
  {
   "cell_type": "markdown",
   "metadata": {},
   "source": [
    "Finally, train the classifier and evaluate it."
   ]
  },
  {
   "cell_type": "code",
   "execution_count": 7,
   "metadata": {},
   "outputs": [
    {
     "name": "stdout",
     "output_type": "stream",
     "text": [
      "Loss at epoch 0: 1.1223719936578547\n",
      "Loss at epoch 100: 0.2582461511306976\n",
      "Loss at epoch 200: 0.166347669972319\n",
      "Loss at epoch 300: 0.12355215569066144\n",
      "Loss at epoch 400: 0.09881196719029144\n",
      "              precision    recall  f1-score   support\n",
      "\n",
      "      benign       1.00      1.00      1.00       150\n",
      "  bruteforce       1.00      1.00      1.00        30\n",
      " cryptominer       1.00      1.00      1.00        20\n",
      "\n",
      "    accuracy                           1.00       200\n",
      "   macro avg       1.00      1.00      1.00       200\n",
      "weighted avg       1.00      1.00      1.00       200\n",
      "\n"
     ]
    }
   ],
   "source": [
    "# Classify using Custom Logistic Regression\n",
    "epochs = 500\n",
    "lr = LogisticRegression()\n",
    "losses = lr.fit(X_train, y_train, learning_rate=0.01, epochs=epochs, batch_size=32, verbose=True)\n",
    "\n",
    "lr_predict = lr.predict(X_test)\n",
    "lr_predict = encoder.inverse_transform(lr_predict)\n",
    "\n",
    "# Evaluate the model\n",
    "lr_cmat = confusion_matrix(y_test, lr_predict)\n",
    "report = classification_report(y_test, lr_predict, target_names=encoder.categories_[0])\n",
    "\n",
    "print(report)"
   ]
  },
  {
   "cell_type": "markdown",
   "metadata": {},
   "source": [
    "The accuracy is 1.00, which is the best we could expect. We can plot the loss function to see how it converges."
   ]
  },
  {
   "cell_type": "code",
   "execution_count": 10,
   "metadata": {},
   "outputs": [
    {
     "data": {
      "image/png": "[encoded data removed]",
      "text/plain": [
       "<Figure size 640x480 with 1 Axes>"
      ]
     },
     "metadata": {},
     "output_type": "display_data"
    }
   ],
   "source": [
    "import matplotlib.pyplot as plt\n",
    "\n",
    "# Plot the loss curve\n",
    "plt.plot(range(1, epochs+1), losses, linestyle='-', color='b', label=\"Training Loss\")\n",
    "\n",
    "# Labels and title\n",
    "plt.xlabel(\"Epoch\")\n",
    "plt.ylabel(\"Loss\")\n",
    "plt.title(\"Loss Over Epochs\")\n",
    "plt.legend()\n",
    "plt.grid(True)\n",
    "\n",
    "plt.show()"
   ]
  }
 ],
 "metadata": {
  "kernelspec": {
   "display_name": "Python 3",
   "language": "python",
   "name": "python3"
  },
  "language_info": {
   "codemirror_mode": {
    "name": "ipython",
    "version": 3
   },
   "file_extension": ".py",
   "mimetype": "text/x-python",
   "name": "python",
   "nbconvert_exporter": "python",
   "pygments_lexer": "ipython3",
   "version": "3.11.6"
  }
 },
 "nbformat": 4,
 "nbformat_minor": 2
}
